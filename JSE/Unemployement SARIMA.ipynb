{
 "cells": [
  {
   "cell_type": "code",
   "execution_count": 1,
   "id": "3d811d96",
   "metadata": {},
   "outputs": [
    {
     "name": "stderr",
     "output_type": "stream",
     "text": [
      "Warning message:\n",
      "“package ‘timeSeries’ was built under R version 4.2.1”\n",
      "Loading required package: timeDate\n",
      "\n",
      "Warning message:\n",
      "“package ‘timeDate’ was built under R version 4.2.2”\n"
     ]
    },
    {
     "ename": "ERROR",
     "evalue": "Error: package or namespace load failed for ‘ggplot2’ in loadNamespace(i, c(lib.loc, .libPaths()), versionCheck = vI[[i]]):\n namespace ‘rlang’ 1.0.2 is already loaded, but >= 1.1.0 is required\n",
     "output_type": "error",
     "traceback": [
      "Error: package or namespace load failed for ‘ggplot2’ in loadNamespace(i, c(lib.loc, .libPaths()), versionCheck = vI[[i]]):\n namespace ‘rlang’ 1.0.2 is already loaded, but >= 1.1.0 is required\nTraceback:\n",
      "1. library(ggplot2)",
      "2. tryCatch({\n .     attr(package, \"LibPath\") <- which.lib.loc\n .     ns <- loadNamespace(package, lib.loc)\n .     env <- attachNamespace(ns, pos = pos, deps, exclude, include.only)\n . }, error = function(e) {\n .     P <- if (!is.null(cc <- conditionCall(e))) \n .         paste(\" in\", deparse(cc)[1L])\n .     else \"\"\n .     msg <- gettextf(\"package or namespace load failed for %s%s:\\n %s\", \n .         sQuote(package), P, conditionMessage(e))\n .     if (logical.return && !quietly) \n .         message(paste(\"Error:\", msg), domain = NA)\n .     else stop(msg, call. = FALSE, domain = NA)\n . })",
      "3. tryCatchList(expr, classes, parentenv, handlers)",
      "4. tryCatchOne(expr, names, parentenv, handlers[[1L]])",
      "5. value[[3L]](cond)",
      "6. stop(msg, call. = FALSE, domain = NA)"
     ]
    }
   ],
   "source": [
    "#loading the libraries\n",
    "library(timeSeries)\n",
    "library(readxl)\n",
    "library(ggplot2)"
   ]
  },
  {
   "cell_type": "code",
   "execution_count": null,
   "id": "83efdd74",
   "metadata": {},
   "outputs": [],
   "source": [
    "#importing the data and skiping the irrelevant rows\n",
    "data <- read_excel(\"/home/mngadil/Downloads/Natasha_Unemp.xlsx\", skip=4)"
   ]
  },
  {
   "cell_type": "code",
   "execution_count": null,
   "id": "2eb10357",
   "metadata": {},
   "outputs": [],
   "source": [
    "# I have converted the data types from char type for convenient time series working \n",
    "data$Date <- as.Date(data$Date, format = \"%Y\")\n",
    "data$KBP7019L <- as.numeric(data$KBP7019L)"
   ]
  },
  {
   "cell_type": "code",
   "execution_count": null,
   "id": "fc4e9781",
   "metadata": {},
   "outputs": [],
   "source": [
    "# This is unnecessary but I have changed column of y-coordinate\n",
    "colnames(data)[colnames(data) == \"KBP7019L\"] <- \"Rate\"\n",
    "colnames(data)"
   ]
  },
  {
   "cell_type": "code",
   "execution_count": null,
   "id": "19ecef52",
   "metadata": {},
   "outputs": [],
   "source": [
    "df <- data.frame(data)"
   ]
  },
  {
   "cell_type": "code",
   "execution_count": null,
   "id": "7b835e97",
   "metadata": {},
   "outputs": [],
   "source": [
    "ggplot(df, aes(x = Date, y = Rate)) +\n",
    "  geom_line() +\n",
    "  labs(x = \"Date\", y = \"Unemployment\") +\n",
    "  ggtitle(\"Seasonal Time Series Data\")"
   ]
  },
  {
   "cell_type": "code",
   "execution_count": null,
   "id": "7817f696",
   "metadata": {},
   "outputs": [],
   "source": []
  }
 ],
 "metadata": {
  "kernelspec": {
   "display_name": "R",
   "language": "R",
   "name": "ir"
  },
  "language_info": {
   "codemirror_mode": "r",
   "file_extension": ".r",
   "mimetype": "text/x-r-source",
   "name": "R",
   "pygments_lexer": "r",
   "version": "4.2.0"
  }
 },
 "nbformat": 4,
 "nbformat_minor": 5
}
